{
 "cells": [
  {
   "cell_type": "code",
   "execution_count": 1,
   "metadata": {},
   "outputs": [],
   "source": [
    "import requests\n",
    "import pandas as pd\n",
    "import os\n",
    "from pathlib import Path\n",
    "\n",
    "\n",
    "SAVE_PATH = Path(\"../data/xeno-canto/\")"
   ]
  },
  {
   "cell_type": "code",
   "execution_count": 2,
   "metadata": {},
   "outputs": [],
   "source": [
    "def download_bird_recordings(bird_species_df, save_directory = SAVE_PATH):\n",
    "    for index, row in bird_species_df.iterrows():\n",
    "        species_name = row['Latin name']\n",
    "        if os.listdir(os.path.join(save_directory, species_name)):\n",
    "            print(f\"Skipping downloading for species {species_name}...\")\n",
    "            continue\n",
    "        page = 1\n",
    "        numPages = 1\n",
    "        while page < numPages + 1:\n",
    "            url = f\"https://www.xeno-canto.org/api/2/recordings?query={species_name}&page={page}\"\n",
    "            response = requests.get(url)\n",
    "            if response.status_code == 200:\n",
    "                data = response.json()\n",
    "                numPages = data['numPages']\n",
    "                if int(data['numRecordings']) > 0:\n",
    "                    recordings = data['recordings']\n",
    "                    for i, recording in enumerate(recordings):\n",
    "                        if recording['q'] in ['A', 'B', 'C', 'no score']:\n",
    "                            recording_id = recording['id']\n",
    "                            recording_url = recording['file']\n",
    "                            file_name = f\"{species_name}/{recording_id}.mp3\"\n",
    "                            file_path = os.path.join(save_directory, file_name)\n",
    "                            with open(file_path, 'wb') as f:\n",
    "                                f.write(requests.get(recording_url).content)\n",
    "                            print(f\"Downloaded recording {i+1} for {species_name}\")\n",
    "                        else:\n",
    "                            continue\n",
    "                    page += 1\n",
    "                else:\n",
    "                    break\n",
    "            else:\n",
    "                print(f\"Failed to retrieve data for {species_name}\")\n",
    "                break"
   ]
  },
  {
   "cell_type": "markdown",
   "metadata": {},
   "source": [
    "### Load names of species with `priority` = 1"
   ]
  },
  {
   "cell_type": "code",
   "execution_count": 3,
   "metadata": {},
   "outputs": [],
   "source": [
    "bird_species_df = pd.read_csv('../data/selected_species.csv', sep=',')"
   ]
  },
  {
   "cell_type": "code",
   "execution_count": 4,
   "metadata": {},
   "outputs": [],
   "source": [
    "bird_species_priority_df = bird_species_df[bird_species_df['Priority'] == 1]"
   ]
  },
  {
   "cell_type": "code",
   "execution_count": 5,
   "metadata": {},
   "outputs": [],
   "source": [
    "species = pd.DataFrame(bird_species_priority_df['Latin name'])"
   ]
  },
  {
   "cell_type": "code",
   "execution_count": null,
   "metadata": {},
   "outputs": [],
   "source": [
    "species"
   ]
  },
  {
   "cell_type": "markdown",
   "metadata": {},
   "source": [
    "### Create necessary folder when data will be saved"
   ]
  },
  {
   "cell_type": "code",
   "execution_count": 7,
   "metadata": {},
   "outputs": [],
   "source": [
    "def create_folders_for_bird_species(bird_species_df, base_directory=SAVE_PATH):\n",
    "    for index, row in bird_species_df.iterrows():\n",
    "        species_name = row['Latin name']  \n",
    "        folder_path = os.path.join(base_directory, species_name)\n",
    "        os.makedirs(folder_path, exist_ok=True)\n",
    "        print(f\"Created folder for species: {species_name} at {folder_path}\")"
   ]
  },
  {
   "cell_type": "code",
   "execution_count": null,
   "metadata": {},
   "outputs": [],
   "source": [
    "create_folders_for_bird_species(species)"
   ]
  },
  {
   "cell_type": "markdown",
   "metadata": {},
   "source": [
    "### Download recordings"
   ]
  },
  {
   "cell_type": "code",
   "execution_count": null,
   "metadata": {},
   "outputs": [],
   "source": [
    "download_bird_recordings(species)"
   ]
  },
  {
   "cell_type": "markdown",
   "metadata": {},
   "source": [
    "### Split data on train/test/val and split into chunks"
   ]
  },
  {
   "cell_type": "code",
   "execution_count": 8,
   "metadata": {},
   "outputs": [],
   "source": [
    "import os\n",
    "import shutil\n",
    "from pydub import AudioSegment\n",
    "from mutagen.mp3 import MP3\n",
    "from pathlib import Path\n",
    "    \n",
    "def get_audio_duration(file_path):\n",
    "    try:\n",
    "        # Try using metadata first for performance\n",
    "        audio = MP3(file_path)\n",
    "        if audio.info.length:\n",
    "            return audio.info.length\n",
    "    except Exception as e:\n",
    "        print(f\"Mutagen failed for {file_path}: {e}\")\n",
    "    \n",
    "    try:\n",
    "        audio = AudioSegment.from_file(file_path)\n",
    "        return audio.duration_seconds\n",
    "    except Exception as e:\n",
    "        print(f\"Both mutagen and pydub failed for {file_path}: {e}\")\n",
    "        return 0\n",
    "\n",
    "def split_audio(input_path, output_dir, max_duration=20, min_duration=5):\n",
    "    audio = AudioSegment.from_file(input_path)\n",
    "    max_duration_ms = max_duration * 1000\n",
    "    min_duration_ms = min_duration * 1000\n",
    "\n",
    "    num_chunks, remainder = divmod(len(audio), max_duration_ms)\n",
    "\n",
    "    # If the last chunk is too short, exclude it\n",
    "    if remainder >= min_duration_ms:\n",
    "        num_chunks += 1\n",
    "\n",
    "    for i in range(num_chunks):\n",
    "        start_ms = i * max_duration_ms\n",
    "        end_ms = min((i + 1) * max_duration_ms, len(audio))\n",
    "\n",
    "        chunk = audio[start_ms:end_ms]\n",
    "\n",
    "        # Save the chunk\n",
    "        output_path = os.path.join(output_dir, f\"{Path(input_path).stem}_part{i + 1}.mp3\")\n",
    "        try:\n",
    "            chunk.export(output_path, format=\"mp3\")\n",
    "        except Exception as e:\n",
    "            print(f'There was an error exporting {output_path}: {e}')\n",
    "\n",
    "def organize_files(save_dir, split_ratios={'train': 0.8, 'val': 0.1, 'test': 0.1}, min_duration=5):\n",
    "    \"\"\"\n",
    "    Organizes bird audio recordings into train, val, and test sets.\n",
    "    \"\"\"\n",
    "    assert sum(split_ratios.values()) == 1.0, 'Split ratios must sum to 1.0'\n",
    "\n",
    "    split_dirs = {\n",
    "        \"train\": os.path.join(save_dir, \"train\"),\n",
    "        \"val\": os.path.join(save_dir, \"val\"),\n",
    "        \"test\": os.path.join(save_dir, \"test\")\n",
    "    }\n",
    "\n",
    "    for split_dir in split_dirs.values():\n",
    "        os.makedirs(split_dir, exist_ok=True)\n",
    "\n",
    "    species_dirs = [d for d in os.listdir(save_dir) if (os.path.isdir(os.path.join(save_dir, d)) and d not in split_dirs.keys())]\n",
    "\n",
    "    for species in species_dirs:\n",
    "        species_path = os.path.join(save_dir, species)\n",
    "        recordings = [os.path.join(species_path, f) for f in os.listdir(species_path) if f.endswith(\".wav\") or f.endswith(\".mp3\")]\n",
    "\n",
    "        recordings_with_durations = [(rec, get_audio_duration(rec)) for rec in recordings]\n",
    "        # Remove recordings shorter than min_duration\n",
    "        recordings_with_durations = [(rec, dur) for rec, dur in recordings_with_durations if dur >= min_duration]\n",
    "\n",
    "        recordings_with_durations.sort(key=lambda x: x[1], reverse=True)\n",
    "\n",
    "        splits = {\"train\": [], \"val\": [], \"test\": []}\n",
    "        split_durations = {k: 0 for k in splits}\n",
    "\n",
    "        for recording, duration in recordings_with_durations:\n",
    "            best_split = min(splits, key=lambda s: split_durations[s] / split_ratios[s])\n",
    "            splits[best_split].append(recording)\n",
    "            split_durations[best_split] += duration\n",
    "\n",
    "        for split, files in splits.items():\n",
    "            split_species_dir = os.path.join(split_dirs[split], species)\n",
    "            os.makedirs(split_species_dir, exist_ok=True)\n",
    "\n",
    "            for file_path in files:\n",
    "                try:\n",
    "                    shutil.move(file_path, split_species_dir)\n",
    "                except Exception as e:\n",
    "                    print(f'Failed to move {file_path} to {split_species_dir}: {e}')\n",
    "\n",
    "        print(f\"Finished organizing recordings for {species}.\")\n",
    "        try:\n",
    "            shutil.rmtree(species_path)\n",
    "        except Exception as e:\n",
    "            print(f'Failed to remove directory, you should remove it manually: {species_path}')\n",
    "\n",
    "def split_files(save_dir, max_duration=20, min_duration=5):\n",
    "    \"\"\"\n",
    "    Splits audio files in train, val, and test sets into chunks.\n",
    "    \"\"\"\n",
    "    for split in [\"train\", \"val\", \"test\"]:\n",
    "        split_dir = os.path.join(save_dir, split)\n",
    "        for species in os.listdir(split_dir):\n",
    "            species_dir = os.path.join(split_dir, species)\n",
    "            if os.path.isdir(species_dir):\n",
    "                print(f\"Starting splitting recordings for {species} in {split} set.\")\n",
    "                for file_path in os.listdir(species_dir):\n",
    "                    full_path = os.path.join(species_dir, file_path)\n",
    "                    if os.path.isfile(full_path):\n",
    "                        try:\n",
    "                            split_audio(full_path, species_dir, max_duration=max_duration, min_duration=min_duration)\n",
    "                        except Exception as e:\n",
    "                            print(f'There was an error splitting: {full_path}, removing...')\n",
    "                        os.remove(full_path)"
   ]
  },
  {
   "cell_type": "code",
   "execution_count": null,
   "metadata": {},
   "outputs": [],
   "source": [
    "organize_files(SAVE_PATH)"
   ]
  },
  {
   "cell_type": "code",
   "execution_count": null,
   "metadata": {},
   "outputs": [],
   "source": [
    "split_files(SAVE_PATH)"
   ]
  },
  {
   "cell_type": "markdown",
   "metadata": {},
   "source": [
    "### Plot species counts"
   ]
  },
  {
   "cell_type": "code",
   "execution_count": null,
   "metadata": {},
   "outputs": [],
   "source": [
    "import os\n",
    "import matplotlib.pyplot as plt\n",
    "\n",
    "species_file_counts = {}\n",
    "for split in [\"train\", \"val\", \"test\"]:\n",
    "    split_dir = os.path.join(SAVE_PATH, split)\n",
    "    if os.path.exists(split_dir):\n",
    "        for species in os.listdir(split_dir):\n",
    "            species_dir = os.path.join(split_dir, species)\n",
    "            if os.path.isdir(species_dir):\n",
    "                species_file_counts[species] = species_file_counts.get(species, 0) + len(os.listdir(species_dir))\n",
    "\n",
    "plt.figure(figsize=(10, 6))\n",
    "plt.bar(species_file_counts.keys(), species_file_counts.values())\n",
    "plt.xticks(rotation=45, ha='right')\n",
    "plt.xlabel(\"Species\")\n",
    "plt.ylabel(\"Number of Files\")\n",
    "plt.title(\"Number of Files After Splitting by Species\")\n",
    "plt.tight_layout()\n",
    "plt.show()"
   ]
  },
  {
   "cell_type": "markdown",
   "metadata": {},
   "source": [
    "### Unsplit data"
   ]
  },
  {
   "cell_type": "code",
   "execution_count": null,
   "metadata": {},
   "outputs": [],
   "source": [
    "# Merge splitted data in case there is a need to do something on a whole dataset\n",
    "import os\n",
    "import shutil\n",
    "\n",
    "create_folders_for_bird_species(species)\n",
    "\n",
    "split_folders = [\"train\", \"val\", \"test\"]\n",
    "\n",
    "for folder_name in split_folders:\n",
    "    folder_path = os.path.join(SAVE_PATH, folder_name)\n",
    "    \n",
    "    if os.path.isdir(folder_path):\n",
    "        for subfolder_name in os.listdir(folder_path):\n",
    "            subfolder_path = os.path.join(folder_path, subfolder_name)\n",
    "            \n",
    "            if os.path.isdir(subfolder_path):\n",
    "                for file_name in os.listdir(subfolder_path):\n",
    "                    file_path = os.path.join(subfolder_path, file_name)\n",
    "                    destination_path = os.path.join(SAVE_PATH, subfolder_name, file_name)\n",
    "                    \n",
    "                    shutil.move(file_path, destination_path)\n",
    "                \n",
    "                if not os.listdir(subfolder_path):\n",
    "                    shutil.rmtree(subfolder_path)\n",
    "                    print(f\"Empty directory: {subfolder_path} has been deleted.\")\n",
    "            else:\n",
    "                print(f\"{subfolder_name} is not a directory, skipping.\")\n",
    "        if not os.listdir(folder_path):\n",
    "            shutil.rmtree(folder_path)\n",
    "            print(f\"Empty split folder: {folder_path} has been deleted.\")"
   ]
  },
  {
   "cell_type": "markdown",
   "metadata": {},
   "source": [
    "### Delete corrupted files"
   ]
  },
  {
   "cell_type": "code",
   "execution_count": null,
   "metadata": {},
   "outputs": [],
   "source": [
    "import librosa\n",
    "\n",
    "files_corrupted_count = 0\n",
    "for root, _, files in os.walk(SAVE_PATH):\n",
    "    for file in files:\n",
    "        if not (file.endswith('.mp3') or file.endswith('.wav')):\n",
    "            continue\n",
    "        audio_path = os.path.join(root, file)\n",
    "        try:\n",
    "            waveform, sr = librosa.load(audio_path, sr=16000)\n",
    "        except Exception as e:\n",
    "            print(f'Error loading {audio_path}: {e}')\n",
    "            try:\n",
    "                os.remove(audio_path)\n",
    "            except:\n",
    "                print(f'Failed to remove: {audio_path}')\n",
    "            files_corrupted_count += 1\n",
    "\n",
    "print(files_corrupted_count)"
   ]
  }
 ],
 "metadata": {
  "kernelspec": {
   "display_name": "birddetect",
   "language": "python",
   "name": "python3"
  },
  "language_info": {
   "codemirror_mode": {
    "name": "ipython",
    "version": 3
   },
   "file_extension": ".py",
   "mimetype": "text/x-python",
   "name": "python",
   "nbconvert_exporter": "python",
   "pygments_lexer": "ipython3",
   "version": "3.10.15"
  }
 },
 "nbformat": 4,
 "nbformat_minor": 2
}
