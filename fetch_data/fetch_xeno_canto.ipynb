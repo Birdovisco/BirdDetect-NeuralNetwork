{
 "cells": [
  {
   "cell_type": "code",
   "execution_count": 18,
   "metadata": {},
   "outputs": [],
   "source": [
    "import requests\n",
    "import pandas as pd\n",
    "import os\n",
    "\n",
    "\n",
    "SAVE_PATH = \"../data/xeno-canto/\""
   ]
  },
  {
   "cell_type": "code",
   "execution_count": 19,
   "metadata": {},
   "outputs": [],
   "source": [
    "def download_bird_recordings(bird_species_df, save_directory = SAVE_PATH):\n",
    "    for index, row in bird_species_df.iterrows():\n",
    "        species_name = row['Latin name']\n",
    "        if os.listdir(os.path.join(save_directory, species_name)):\n",
    "            print(f\"Skipping downloading for species {species_name}...\")\n",
    "            continue\n",
    "        page = 1\n",
    "        numPages = 1\n",
    "        while page < numPages + 1:\n",
    "            url = f\"https://www.xeno-canto.org/api/2/recordings?query={species_name}&page={page}\"\n",
    "            response = requests.get(url)\n",
    "            if response.status_code == 200:\n",
    "                data = response.json()\n",
    "                numPages = data['numPages']\n",
    "                if int(data['numRecordings']) > 0:\n",
    "                    recordings = data['recordings']\n",
    "                    for i, recording in enumerate(recordings):\n",
    "                        if recording['q'] in ['A', 'B', 'C', 'no score']:\n",
    "                            recording_id = recording['id']\n",
    "                            recording_url = recording['file']\n",
    "                            file_name = f\"{species_name}/{recording_id}.mp3\"\n",
    "                            file_path = os.path.join(save_directory, file_name)\n",
    "                            with open(file_path, 'wb') as f:\n",
    "                                f.write(requests.get(recording_url).content)\n",
    "                            print(f\"Downloaded recording {i+1} for {species_name}\")\n",
    "                        else:\n",
    "                            continue\n",
    "                    page += 1\n",
    "                else:\n",
    "                    break\n",
    "            else:\n",
    "                print(f\"Failed to retrieve data for {species_name}\")\n",
    "                break"
   ]
  },
  {
   "cell_type": "markdown",
   "metadata": {},
   "source": [
    "### Load names of species with `priority` = 1"
   ]
  },
  {
   "cell_type": "code",
   "execution_count": 20,
   "metadata": {},
   "outputs": [],
   "source": [
    "bird_species_df = pd.read_csv('../data/selected_species.csv', sep=',')"
   ]
  },
  {
   "cell_type": "code",
   "execution_count": 21,
   "metadata": {},
   "outputs": [],
   "source": [
    "bird_species_priority_df = bird_species_df[bird_species_df['Priority'] == 1]"
   ]
  },
  {
   "cell_type": "code",
   "execution_count": 22,
   "metadata": {},
   "outputs": [],
   "source": [
    "species = pd.DataFrame(bird_species_priority_df['Latin name'])"
   ]
  },
  {
   "cell_type": "code",
   "execution_count": 23,
   "metadata": {},
   "outputs": [
    {
     "data": {
      "text/html": [
       "<div>\n",
       "<style scoped>\n",
       "    .dataframe tbody tr th:only-of-type {\n",
       "        vertical-align: middle;\n",
       "    }\n",
       "\n",
       "    .dataframe tbody tr th {\n",
       "        vertical-align: top;\n",
       "    }\n",
       "\n",
       "    .dataframe thead th {\n",
       "        text-align: right;\n",
       "    }\n",
       "</style>\n",
       "<table border=\"1\" class=\"dataframe\">\n",
       "  <thead>\n",
       "    <tr style=\"text-align: right;\">\n",
       "      <th></th>\n",
       "      <th>Latin name</th>\n",
       "    </tr>\n",
       "  </thead>\n",
       "  <tbody>\n",
       "    <tr>\n",
       "      <th>1</th>\n",
       "      <td>Riparia riparia</td>\n",
       "    </tr>\n",
       "    <tr>\n",
       "      <th>8</th>\n",
       "      <td>Corvus frugilegus</td>\n",
       "    </tr>\n",
       "    <tr>\n",
       "      <th>10</th>\n",
       "      <td>Anser albifrons</td>\n",
       "    </tr>\n",
       "    <tr>\n",
       "      <th>11</th>\n",
       "      <td>Anser fabalis</td>\n",
       "    </tr>\n",
       "    <tr>\n",
       "      <th>13</th>\n",
       "      <td>Columba livia domestica</td>\n",
       "    </tr>\n",
       "    <tr>\n",
       "      <th>15</th>\n",
       "      <td>Columba palumbus</td>\n",
       "    </tr>\n",
       "    <tr>\n",
       "      <th>17</th>\n",
       "      <td>Apus apus</td>\n",
       "    </tr>\n",
       "    <tr>\n",
       "      <th>18</th>\n",
       "      <td>Corvus monedula</td>\n",
       "    </tr>\n",
       "    <tr>\n",
       "      <th>19</th>\n",
       "      <td>Sitta europaea</td>\n",
       "    </tr>\n",
       "    <tr>\n",
       "      <th>20</th>\n",
       "      <td>Anas platyrhynchos</td>\n",
       "    </tr>\n",
       "    <tr>\n",
       "      <th>21</th>\n",
       "      <td>Cuculus canorus</td>\n",
       "    </tr>\n",
       "    <tr>\n",
       "      <th>25</th>\n",
       "      <td>Fulica atra</td>\n",
       "    </tr>\n",
       "    <tr>\n",
       "      <th>28</th>\n",
       "      <td>Chroicocephalus ridibundus</td>\n",
       "    </tr>\n",
       "    <tr>\n",
       "      <th>29</th>\n",
       "      <td>Cyanistes caeruleus</td>\n",
       "    </tr>\n",
       "    <tr>\n",
       "      <th>34</th>\n",
       "      <td>Delichon urbicum</td>\n",
       "    </tr>\n",
       "    <tr>\n",
       "      <th>47</th>\n",
       "      <td>Alauda arvensis</td>\n",
       "    </tr>\n",
       "    <tr>\n",
       "      <th>48</th>\n",
       "      <td>Luscinia megarhynchos</td>\n",
       "    </tr>\n",
       "    <tr>\n",
       "      <th>49</th>\n",
       "      <td>Luscinia luscinia</td>\n",
       "    </tr>\n",
       "    <tr>\n",
       "      <th>51</th>\n",
       "      <td>Garrulus glandarius</td>\n",
       "    </tr>\n",
       "    <tr>\n",
       "      <th>52</th>\n",
       "      <td>Pica pica</td>\n",
       "    </tr>\n",
       "  </tbody>\n",
       "</table>\n",
       "</div>"
      ],
      "text/plain": [
       "                    Latin name\n",
       "1              Riparia riparia\n",
       "8            Corvus frugilegus\n",
       "10             Anser albifrons\n",
       "11               Anser fabalis\n",
       "13     Columba livia domestica\n",
       "15            Columba palumbus\n",
       "17                   Apus apus\n",
       "18             Corvus monedula\n",
       "19              Sitta europaea\n",
       "20          Anas platyrhynchos\n",
       "21             Cuculus canorus\n",
       "25                 Fulica atra\n",
       "28  Chroicocephalus ridibundus\n",
       "29         Cyanistes caeruleus\n",
       "34            Delichon urbicum\n",
       "47             Alauda arvensis\n",
       "48       Luscinia megarhynchos\n",
       "49           Luscinia luscinia\n",
       "51         Garrulus glandarius\n",
       "52                   Pica pica"
      ]
     },
     "execution_count": 23,
     "metadata": {},
     "output_type": "execute_result"
    }
   ],
   "source": [
    "species"
   ]
  },
  {
   "cell_type": "markdown",
   "metadata": {},
   "source": [
    "### Create necessary folder when data will be saved"
   ]
  },
  {
   "cell_type": "code",
   "execution_count": 24,
   "metadata": {},
   "outputs": [],
   "source": [
    "def create_folders_for_bird_species(bird_species_df, base_directory=SAVE_PATH):\n",
    "    for index, row in bird_species_df.iterrows():\n",
    "        species_name = row['Latin name']  \n",
    "        folder_path = os.path.join(base_directory, species_name)\n",
    "        os.makedirs(folder_path, exist_ok=True)\n",
    "        print(f\"Created folder for species: {species_name} at {folder_path}\")"
   ]
  },
  {
   "cell_type": "code",
   "execution_count": 25,
   "metadata": {},
   "outputs": [
    {
     "name": "stdout",
     "output_type": "stream",
     "text": [
      "Created folder for species: Riparia riparia at ../data/xeno-canto/Riparia riparia\n",
      "Created folder for species: Corvus frugilegus at ../data/xeno-canto/Corvus frugilegus\n",
      "Created folder for species: Anser albifrons at ../data/xeno-canto/Anser albifrons\n",
      "Created folder for species: Anser fabalis at ../data/xeno-canto/Anser fabalis\n",
      "Created folder for species: Columba livia domestica at ../data/xeno-canto/Columba livia domestica\n",
      "Created folder for species: Columba palumbus at ../data/xeno-canto/Columba palumbus\n",
      "Created folder for species: Apus apus at ../data/xeno-canto/Apus apus\n",
      "Created folder for species: Corvus monedula at ../data/xeno-canto/Corvus monedula\n",
      "Created folder for species: Sitta europaea at ../data/xeno-canto/Sitta europaea\n",
      "Created folder for species: Anas platyrhynchos at ../data/xeno-canto/Anas platyrhynchos\n",
      "Created folder for species: Cuculus canorus at ../data/xeno-canto/Cuculus canorus\n",
      "Created folder for species: Fulica atra at ../data/xeno-canto/Fulica atra\n",
      "Created folder for species: Chroicocephalus ridibundus at ../data/xeno-canto/Chroicocephalus ridibundus\n",
      "Created folder for species: Cyanistes caeruleus at ../data/xeno-canto/Cyanistes caeruleus\n",
      "Created folder for species: Delichon urbicum at ../data/xeno-canto/Delichon urbicum\n",
      "Created folder for species: Alauda arvensis at ../data/xeno-canto/Alauda arvensis\n",
      "Created folder for species: Luscinia megarhynchos at ../data/xeno-canto/Luscinia megarhynchos\n",
      "Created folder for species: Luscinia luscinia at ../data/xeno-canto/Luscinia luscinia\n",
      "Created folder for species: Garrulus glandarius at ../data/xeno-canto/Garrulus glandarius\n",
      "Created folder for species: Pica pica at ../data/xeno-canto/Pica pica\n"
     ]
    }
   ],
   "source": [
    "create_folders_for_bird_species(species)"
   ]
  },
  {
   "cell_type": "markdown",
   "metadata": {},
   "source": [
    "### Download recordings"
   ]
  },
  {
   "cell_type": "code",
   "execution_count": 26,
   "metadata": {},
   "outputs": [
    {
     "name": "stdout",
     "output_type": "stream",
     "text": [
      "Skipping downloading for species Riparia riparia...\n",
      "Skipping downloading for species Corvus frugilegus...\n",
      "Skipping downloading for species Anser albifrons...\n",
      "Skipping downloading for species Anser fabalis...\n",
      "Downloaded recording 1 for Columba livia domestica\n",
      "Downloaded recording 2 for Columba livia domestica\n",
      "Downloaded recording 3 for Columba livia domestica\n",
      "Downloaded recording 4 for Columba livia domestica\n",
      "Downloaded recording 5 for Columba livia domestica\n",
      "Downloaded recording 6 for Columba livia domestica\n",
      "Downloaded recording 7 for Columba livia domestica\n",
      "Downloaded recording 8 for Columba livia domestica\n",
      "Downloaded recording 9 for Columba livia domestica\n",
      "Downloaded recording 10 for Columba livia domestica\n",
      "Downloaded recording 11 for Columba livia domestica\n",
      "Downloaded recording 12 for Columba livia domestica\n",
      "Downloaded recording 13 for Columba livia domestica\n",
      "Downloaded recording 14 for Columba livia domestica\n",
      "Downloaded recording 15 for Columba livia domestica\n",
      "Downloaded recording 16 for Columba livia domestica\n",
      "Downloaded recording 17 for Columba livia domestica\n",
      "Downloaded recording 18 for Columba livia domestica\n",
      "Downloaded recording 19 for Columba livia domestica\n",
      "Downloaded recording 20 for Columba livia domestica\n",
      "Downloaded recording 21 for Columba livia domestica\n",
      "Downloaded recording 22 for Columba livia domestica\n",
      "Downloaded recording 23 for Columba livia domestica\n",
      "Downloaded recording 24 for Columba livia domestica\n",
      "Downloaded recording 25 for Columba livia domestica\n",
      "Downloaded recording 26 for Columba livia domestica\n",
      "Downloaded recording 27 for Columba livia domestica\n",
      "Skipping downloading for species Columba palumbus...\n",
      "Skipping downloading for species Apus apus...\n",
      "Skipping downloading for species Sitta europaea...\n",
      "Skipping downloading for species Anas platyrhynchos...\n",
      "Skipping downloading for species Cuculus canorus...\n",
      "Skipping downloading for species Fulica atra...\n",
      "Skipping downloading for species Chroicocephalus ridibundus...\n",
      "Skipping downloading for species Cyanistes caeruleus...\n",
      "Skipping downloading for species Delichon urbicum...\n",
      "Skipping downloading for species Alauda arvensis...\n",
      "Skipping downloading for species Luscinia megarhynchos...\n",
      "Skipping downloading for species Luscinia luscinia...\n",
      "Skipping downloading for species Garrulus glandarius...\n",
      "Skipping downloading for species Pica pica...\n"
     ]
    }
   ],
   "source": [
    "download_bird_recordings(species)"
   ]
  },
  {
   "cell_type": "markdown",
   "metadata": {},
   "source": [
    "### Split data on train/test/val"
   ]
  },
  {
   "cell_type": "code",
   "execution_count": 3,
   "metadata": {},
   "outputs": [
    {
     "name": "stderr",
     "output_type": "stream",
     "text": [
      "Copying files: 25044 files [00:45, 549.83 files/s]"
     ]
    },
    {
     "name": "stdout",
     "output_type": "stream",
     "text": [
      "Empty directory: ../data/xeno-canto/Alauda arvensis has been deleted.\n",
      "Empty directory: ../data/xeno-canto/Anas platyrhynchos has been deleted.\n",
      "Empty directory: ../data/xeno-canto/Anser albifrons has been deleted.\n",
      "Empty directory: ../data/xeno-canto/Anser fabalis has been deleted.\n",
      "Empty directory: ../data/xeno-canto/Apus apus has been deleted.\n",
      "Empty directory: ../data/xeno-canto/Chroicocephalus ridibundus has been deleted.\n",
      "Empty directory: ../data/xeno-canto/Columba livia forma urbana has been deleted.\n",
      "Empty directory: ../data/xeno-canto/Columba palumbus has been deleted.\n",
      "Empty directory: ../data/xeno-canto/Corvus frugilegus has been deleted.\n",
      "Empty directory: ../data/xeno-canto/Corvus monedula has been deleted.\n",
      "Empty directory: ../data/xeno-canto/Cuculus canorus has been deleted.\n",
      "Empty directory: ../data/xeno-canto/Cyanistes caeruleus has been deleted.\n",
      "Empty directory: ../data/xeno-canto/Delichon urbicum has been deleted.\n",
      "Empty directory: ../data/xeno-canto/Fulica atra has been deleted.\n",
      "Empty directory: ../data/xeno-canto/Garrulus glandarius has been deleted.\n",
      "Empty directory: ../data/xeno-canto/Luscinia luscinia has been deleted.\n",
      "Empty directory: ../data/xeno-canto/Luscinia megarhynchos has been deleted.\n",
      "Empty directory: ../data/xeno-canto/Pica pica has been deleted.\n",
      "Empty directory: ../data/xeno-canto/Riparia riparia has been deleted.\n",
      "Empty directory: ../data/xeno-canto/Sitta europaea has been deleted.\n"
     ]
    },
    {
     "name": "stderr",
     "output_type": "stream",
     "text": [
      "\n"
     ]
    }
   ],
   "source": [
    "import splitfolders\n",
    "import shutil\n",
    "\n",
    "splitfolders.ratio(SAVE_PATH, output=SAVE_PATH,\n",
    "    seed=1337, ratio=(.8, .1, .1), group_prefix=None, move=True)\n",
    "\n",
    "for folder_name in os.listdir(SAVE_PATH):\n",
    "    folder_path = os.path.join(SAVE_PATH, folder_name)\n",
    "    if folder_name not in [\"train\", \"val\", \"test\"] and os.path.isdir(folder_path):\n",
    "        # check if folder is empty\n",
    "        if not os.listdir(folder_path):\n",
    "            shutil.rmtree(folder_path)\n",
    "            print(f\"Empty directory: {folder_path} has been deleted.\")\n",
    "        else:\n",
    "            print(f\"Directory: {folder_path} is not empty, deletion cancelled.\")"
   ]
  },
  {
   "cell_type": "code",
   "execution_count": null,
   "metadata": {},
   "outputs": [],
   "source": []
  }
 ],
 "metadata": {
  "kernelspec": {
   "display_name": "base",
   "language": "python",
   "name": "python3"
  },
  "language_info": {
   "codemirror_mode": {
    "name": "ipython",
    "version": 3
   },
   "file_extension": ".py",
   "mimetype": "text/x-python",
   "name": "python",
   "nbconvert_exporter": "python",
   "pygments_lexer": "ipython3",
   "version": "3.12.2"
  }
 },
 "nbformat": 4,
 "nbformat_minor": 2
}
