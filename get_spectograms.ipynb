{
 "cells": [
  {
   "cell_type": "code",
   "execution_count": 1,
   "metadata": {},
   "outputs": [],
   "source": [
    "import numpy as np\n",
    "import os\n",
    "import matplotlib.pyplot as plt\n",
    "import copy as cp\n",
    "from scipy.fftpack import fft\n",
    "from librosa.feature import mfcc\n",
    "from librosa import load\n",
    "from tqdm import tqdm"
   ]
  },
  {
   "cell_type": "code",
   "execution_count": 2,
   "metadata": {},
   "outputs": [],
   "source": [
    "def obtain_signal_slice(insignal, fs, cut_start, cut_stop):\n",
    "    cut_start_idx = int(fs * cut_start)\n",
    "    cut_stop_idx = int(fs * cut_stop)\n",
    "    required_length = cut_stop_idx - cut_start_idx\n",
    "\n",
    "    # Jeśli nagranie jest za krótkie, dodajemy ciszę\n",
    "    if len(insignal) < cut_stop_idx:\n",
    "        print(\"Uzupełnienie krótkiego nagrania ciszą.\")\n",
    "        # Rozszerzenie sygnału ciszą (zerami) do wymaganego czasu\n",
    "        insignal = np.pad(insignal, (0, required_length - len(insignal)), 'constant')\n",
    "    \n",
    "    return insignal[cut_start_idx:cut_stop_idx]\n",
    "\n",
    "\n",
    "def split_to_frames(insignal, frame_length, overlap_factor):\n",
    "    shift_factor = frame_length * (1 - overlap_factor)\n",
    "    target_frames_count = (len(insignal) - frame_length) / shift_factor\n",
    "    shift_factor = int(shift_factor)\n",
    "    target_frames_count = int(target_frames_count)\n",
    "    output_data = np.zeros((frame_length, target_frames_count))\n",
    "\n",
    "    for i in range(target_frames_count):\n",
    "        frame_start = i * shift_factor\n",
    "        frame_end = frame_start + frame_length\n",
    "        output_data[:, i] = insignal[frame_start:frame_end]\n",
    "    \n",
    "    return output_data\n",
    "\n",
    "def frames_to_spectrogram(frames_mtx, fft_window):\n",
    "    output_data = cp.copy(frames_mtx)\n",
    "    for i in range(output_data.shape[1]):\n",
    "        output_data[:, i] = np.abs(fft(output_data[:, i] * fft_window))\n",
    "    \n",
    "    output_data = output_data[0:output_data.shape[0] // 2, :]\n",
    "    return output_data\n",
    "\n",
    "def signal_to_spectrogram(ex, frame_length, overlap_factor, fft_window):\n",
    "    split_ex = split_to_frames(ex, frame_length, overlap_factor)\n",
    "    spectrogram = frames_to_spectrogram(split_ex, fft_window)\n",
    "    return spectrogram\n",
    "\n",
    "def draw_spectogram(dataset_path, chosen_fpath):\n",
    "    frame_length = 1024\n",
    "    overlap_factor = 0.3\n",
    "    cut_start = 0\n",
    "    cut_stop = 5\n",
    "    fft_window = np.ones(frame_length)\n",
    "    \n",
    "    joint_path = os.path.join(dataset_path, chosen_fpath)\n",
    "    audio_data, fs = load(joint_path, sr=None) \n",
    "    audio_data = audio_data.astype(float)\n",
    "    audio_data = audio_data / np.max(np.abs(audio_data))\n",
    "    \n",
    "    audio_slice = obtain_signal_slice(audio_data, fs, cut_start, cut_stop)\n",
    "    spectrogram = signal_to_spectrogram(audio_slice, frame_length, overlap_factor, fft_window)\n",
    "\n",
    "    save_dir = os.path.join('Spectograms', os.path.dirname(chosen_fpath))  \n",
    "    os.makedirs(save_dir, exist_ok=True) \n",
    "    \n",
    "    save_path = os.path.join(save_dir, os.path.splitext(os.path.basename(chosen_fpath))[0] + '.png')\n",
    "    \n",
    "    plt.figure(figsize=(3, 3))\n",
    "    plt.imshow(spectrogram, aspect='auto', origin=\"lower\", extent=[0, spectrogram.shape[1] * frame_length / fs, 0, fs // 2], cmap='gray')\n",
    "    plt.axis('off')\n",
    "    plt.savefig(save_path, bbox_inches='tight', pad_inches=0)\n",
    "    plt.close()"
   ]
  },
  {
   "cell_type": "code",
   "execution_count": 3,
   "metadata": {},
   "outputs": [],
   "source": [
    "def process_audio_files(root_folder = 'data'):\n",
    "    audio_formats = {'.wav', '.mp3'}\n",
    "    dataset_path = os.path.join(root_folder, 'xeno-canto')\n",
    "\n",
    "    for root, _, files in os.walk(dataset_path):\n",
    "        for file in files:\n",
    "            if os.path.splitext(file)[1].lower() in audio_formats:\n",
    "                try:\n",
    "                    draw_spectogram(dataset_path, os.path.relpath(os.path.join(root, file), dataset_path))\n",
    "                except Exception as e:\n",
    "                    print(f'Error while processing {file}: {e}')\n",
    "            \n"
   ]
  },
  {
   "cell_type": "code",
   "execution_count": null,
   "metadata": {},
   "outputs": [],
   "source": [
    "process_audio_files()"
   ]
  },
  {
   "cell_type": "code",
   "execution_count": null,
   "metadata": {},
   "outputs": [],
   "source": []
  }
 ],
 "metadata": {
  "kernelspec": {
   "display_name": "base",
   "language": "python",
   "name": "python3"
  },
  "language_info": {
   "codemirror_mode": {
    "name": "ipython",
    "version": 3
   },
   "file_extension": ".py",
   "mimetype": "text/x-python",
   "name": "python",
   "nbconvert_exporter": "python",
   "pygments_lexer": "ipython3",
   "version": "3.8.18"
  }
 },
 "nbformat": 4,
 "nbformat_minor": 2
}
