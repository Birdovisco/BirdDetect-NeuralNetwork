{
 "cells": [
  {
   "cell_type": "code",
   "execution_count": 13,
   "metadata": {},
   "outputs": [],
   "source": [
    "import numpy as np\n",
    "import os\n",
    "import matplotlib.pyplot as plt\n",
    "import copy as cp\n",
    "from scipy.fftpack import fft\n",
    "from librosa.feature import mfcc\n",
    "import librosa \n",
    "from tqdm import tqdm"
   ]
  },
  {
   "cell_type": "code",
   "execution_count": 25,
   "metadata": {},
   "outputs": [],
   "source": [
    "def obtain_signal_slice(insignal, fs, cut_start, cut_stop):\n",
    "    cut_start_idx = int(fs * cut_start)\n",
    "    cut_stop_idx = int(fs * cut_stop)\n",
    "    required_length = cut_stop_idx - cut_start_idx\n",
    "\n",
    "    # Jeśli nagranie jest za krótkie, dodajemy ciszę\n",
    "    if len(insignal) < cut_stop_idx:\n",
    "        print(\"Uzupełnienie krótkiego nagrania ciszą.\")\n",
    "        # Rozszerzenie sygnału ciszą (zerami) do wymaganego czasu\n",
    "        insignal = np.pad(insignal, (0, required_length - len(insignal)), 'constant')\n",
    "    \n",
    "    return insignal[cut_start_idx:cut_stop_idx]\n",
    "\n",
    "\n",
    "def draw_spectogram(dataset_path, chosen_fpath):\n",
    "    cut_start = 0\n",
    "    cut_stop = 20\n",
    "    \n",
    "    joint_path = os.path.join(dataset_path, chosen_fpath)\n",
    "    audio_data, fs = librosa.load(joint_path, sr=None) \n",
    "    \n",
    "    audio_data = obtain_signal_slice(audio_data, fs, cut_start, cut_stop)\n",
    "    save_dir = os.path.join('Spectograms', os.path.dirname(chosen_fpath))  \n",
    "    os.makedirs(save_dir, exist_ok=True) \n",
    "    save_path = os.path.join(save_dir, os.path.splitext(os.path.basename(chosen_fpath))[0] + '.png')\n",
    "\n",
    "    S = np.abs(librosa.stft(audio_data)) \n",
    "    fig, ax = plt.subplots()\n",
    "    img = librosa.display.specshow(librosa.amplitude_to_db(S, ref=np.max),y_axis='log', x_axis='time', ax=ax)\n",
    "    ax.set_title('')\n",
    "    ax.axis('off')\n",
    "    plt.savefig(save_path, bbox_inches='tight', pad_inches=0, transparent=True)\n",
    "    plt.close()"
   ]
  },
  {
   "cell_type": "code",
   "execution_count": 3,
   "metadata": {},
   "outputs": [],
   "source": [
    "def process_audio_files(root_folder = 'data'):\n",
    "    audio_formats = {'.wav', '.mp3'}\n",
    "    dataset_path = os.path.join(root_folder, 'xeno-canto')\n",
    "\n",
    "    for root, _, files in os.walk(dataset_path):\n",
    "        for file in files:\n",
    "            if os.path.splitext(file)[1].lower() in audio_formats:\n",
    "                try:\n",
    "                    draw_spectogram(dataset_path, os.path.relpath(os.path.join(root, file), dataset_path))\n",
    "                except Exception as e:\n",
    "                    print(f'Error while processing {file}: {e}')\n",
    "            \n"
   ]
  },
  {
   "cell_type": "code",
   "execution_count": null,
   "metadata": {},
   "outputs": [],
   "source": [
    "process_audio_files()"
   ]
  },
  {
   "cell_type": "code",
   "execution_count": null,
   "metadata": {},
   "outputs": [],
   "source": []
  }
 ],
 "metadata": {
  "kernelspec": {
   "display_name": "wb_active_learning",
   "language": "python",
   "name": "python3"
  },
  "language_info": {
   "codemirror_mode": {
    "name": "ipython",
    "version": 3
   },
   "file_extension": ".py",
   "mimetype": "text/x-python",
   "name": "python",
   "nbconvert_exporter": "python",
   "pygments_lexer": "ipython3",
   "version": "3.10.11"
  }
 },
 "nbformat": 4,
 "nbformat_minor": 2
}
