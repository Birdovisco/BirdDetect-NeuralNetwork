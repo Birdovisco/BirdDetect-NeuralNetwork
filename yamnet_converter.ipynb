{
  "nbformat": 4,
  "nbformat_minor": 0,
  "metadata": {
    "colab": {
      "provenance": []
    },
    "kernelspec": {
      "name": "python3",
      "display_name": "Python 3"
    },
    "language_info": {
      "name": "python"
    }
  },
  "cells": [
    {
      "cell_type": "markdown",
      "source": [
        "# Konwersja modelu YAMNET na tensorflow-js\n",
        "konwersja modelu *keras* na *saved_model* i zapis w folderze **model**"
      ],
      "metadata": {
        "id": "6I-hRDxNf7Af"
      }
    },
    {
      "cell_type": "code",
      "source": [
        "import tensorflow as tf\n",
        "import tensorflow_hub as hub\n",
        "\n",
        "class ReduceMeanLayer(tf.keras.layers.Layer):\n",
        "  def __init__(self, axis=0, **kwargs):\n",
        "    super(ReduceMeanLayer, self).__init__(**kwargs)\n",
        "    self.axis = axis\n",
        "\n",
        "  def call(self, input):\n",
        "    return tf.math.reduce_mean(input, axis=self.axis)\n",
        "\n",
        "\n",
        "python_model_path = 'birds_yamnet.keras'\n",
        "\n",
        "model = tf.keras.saving.load_model(python_model_path, custom_objects={'KerasLayer':hub.KerasLayer, 'ReduceMeanLayer': ReduceMeanLayer})\n",
        "tf.saved_model.save(model, \"model\")"
      ],
      "metadata": {
        "id": "xFrHz6iCFlIz"
      },
      "execution_count": null,
      "outputs": []
    },
    {
      "cell_type": "markdown",
      "source": [
        "konwersja modelu *saved_model* do *tfjs_graph_model* i eksport do folderu **target**"
      ],
      "metadata": {
        "id": "ebRotX7rgMmP"
      }
    },
    {
      "cell_type": "code",
      "source": [
        "!pip install tensorflowjs\n",
        "!tensorflowjs_converter --input_format=tf_saved_model --output_format=tfjs_graph_model ./model ./target"
      ],
      "metadata": {
        "id": "GlmJSZLuI8NI"
      },
      "execution_count": null,
      "outputs": []
    }
  ]
}